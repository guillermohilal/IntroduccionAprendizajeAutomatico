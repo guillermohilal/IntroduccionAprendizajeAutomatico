{
  "nbformat": 4,
  "nbformat_minor": 0,
  "metadata": {
    "kernelspec": {
      "display_name": "Python 3",
      "language": "python",
      "name": "python3"
    },
    "language_info": {
      "codemirror_mode": {
        "name": "ipython",
        "version": 3
      },
      "file_extension": ".py",
      "mimetype": "text/x-python",
      "name": "python",
      "nbconvert_exporter": "python",
      "pygments_lexer": "ipython3",
      "version": "3.6.10"
    },
    "colab": {
      "name": "Lab 2.ipynb",
      "provenance": [],
      "collapsed_sections": []
    }
  },
  "cells": [
    {
      "cell_type": "markdown",
      "metadata": {
        "id": "gCpfHClDQTYA",
        "colab_type": "text"
      },
      "source": [
        "# Laboratorio 2: Armado de un esquema de aprendizaje automático\n",
        "\n",
        "En el laboratorio final se espera que puedan poner en práctica los conocimientos adquiridos en el curso, trabajando con un conjunto de datos de clasificación.\n",
        "\n",
        "El objetivo es que se introduzcan en el desarrollo de un esquema para hacer tareas de aprendizaje automático: selección de un modelo, ajuste de hiperparámetros y evaluación.\n",
        "\n",
        "El conjunto de datos a utilizar está en `./data/loan_data.csv`. Si abren el archivo verán que al principio (las líneas que empiezan con `#`) describen el conjunto de datos y sus atributos (incluyendo el atributo de etiqueta o clase).\n",
        "\n",
        "Se espera que hagan uso de las herramientas vistas en el curso. Se espera que hagan uso especialmente de las herramientas brindadas por `scikit-learn`."
      ]
    },
    {
      "cell_type": "code",
      "metadata": {
        "id": "8oqNcGWbQTYC",
        "colab_type": "code",
        "colab": {}
      },
      "source": [
        "import re\n",
        "import numpy as np\n",
        "import pandas as pd\n",
        "from matplotlib import pyplot as plt\n",
        "\n",
        "from sklearn.linear_model import SGDClassifier\n",
        "from sklearn.model_selection import GridSearchCV, train_test_split\n",
        "from sklearn.metrics import accuracy_score, precision_score, recall_score, f1_score, confusion_matrix, plot_confusion_matrix\n",
        "from sklearn.pipeline import make_pipeline\n",
        "from sklearn.preprocessing import StandardScaler\n",
        "from sklearn.tree import DecisionTreeClassifier, plot_tree\n",
        "\n",
        "import warnings"
      ],
      "execution_count": null,
      "outputs": []
    },
    {
      "cell_type": "markdown",
      "metadata": {
        "id": "TkbvReMSQTYI",
        "colab_type": "text"
      },
      "source": [
        "## Carga de datos y división en entrenamiento y evaluación\n",
        "\n",
        "La celda siguiente se encarga de la carga de datos (haciendo uso de pandas). Estos serán los que se trabajarán en el resto del laboratorio."
      ]
    },
    {
      "cell_type": "code",
      "metadata": {
        "id": "bfPh6tdLQTYJ",
        "colab_type": "code",
        "colab": {
          "base_uri": "https://localhost:8080/",
          "height": 406
        },
        "outputId": "2dd11bd6-8793-4e40-d991-666532ceaaf8"
      },
      "source": [
        "dataset = pd.read_csv(\"https://raw.githubusercontent.com/DiploDatos/IntroduccionAprendizajeAutomatico/master/data/loan_data.csv\", comment=\"#\")\n",
        "\n",
        "# División entre instancias y etiquetas\n",
        "X, y = dataset.iloc[:, 1:], dataset.TARGET\n",
        "\n",
        "# división entre entrenamiento y evaluación\n",
        "X_train, X_test, y_train, y_test = train_test_split(X, y, test_size=0.2, random_state=0)\n",
        "X"
      ],
      "execution_count": null,
      "outputs": [
        {
          "output_type": "execute_result",
          "data": {
            "text/html": [
              "<div>\n",
              "<style scoped>\n",
              "    .dataframe tbody tr th:only-of-type {\n",
              "        vertical-align: middle;\n",
              "    }\n",
              "\n",
              "    .dataframe tbody tr th {\n",
              "        vertical-align: top;\n",
              "    }\n",
              "\n",
              "    .dataframe thead th {\n",
              "        text-align: right;\n",
              "    }\n",
              "</style>\n",
              "<table border=\"1\" class=\"dataframe\">\n",
              "  <thead>\n",
              "    <tr style=\"text-align: right;\">\n",
              "      <th></th>\n",
              "      <th>LOAN</th>\n",
              "      <th>MORTDUE</th>\n",
              "      <th>VALUE</th>\n",
              "      <th>YOJ</th>\n",
              "      <th>DEROG</th>\n",
              "      <th>DELINQ</th>\n",
              "      <th>CLAGE</th>\n",
              "      <th>NINQ</th>\n",
              "      <th>CLNO</th>\n",
              "      <th>DEBTINC</th>\n",
              "    </tr>\n",
              "  </thead>\n",
              "  <tbody>\n",
              "    <tr>\n",
              "      <th>0</th>\n",
              "      <td>4700</td>\n",
              "      <td>88026.0</td>\n",
              "      <td>115506.0</td>\n",
              "      <td>6.0</td>\n",
              "      <td>0.0</td>\n",
              "      <td>0.0</td>\n",
              "      <td>182.248332</td>\n",
              "      <td>0.0</td>\n",
              "      <td>27.0</td>\n",
              "      <td>29.209023</td>\n",
              "    </tr>\n",
              "    <tr>\n",
              "      <th>1</th>\n",
              "      <td>19300</td>\n",
              "      <td>39926.0</td>\n",
              "      <td>101208.0</td>\n",
              "      <td>4.0</td>\n",
              "      <td>0.0</td>\n",
              "      <td>0.0</td>\n",
              "      <td>140.051638</td>\n",
              "      <td>0.0</td>\n",
              "      <td>14.0</td>\n",
              "      <td>31.545694</td>\n",
              "    </tr>\n",
              "    <tr>\n",
              "      <th>2</th>\n",
              "      <td>5700</td>\n",
              "      <td>71556.0</td>\n",
              "      <td>79538.0</td>\n",
              "      <td>2.0</td>\n",
              "      <td>0.0</td>\n",
              "      <td>0.0</td>\n",
              "      <td>92.643085</td>\n",
              "      <td>0.0</td>\n",
              "      <td>15.0</td>\n",
              "      <td>41.210012</td>\n",
              "    </tr>\n",
              "    <tr>\n",
              "      <th>3</th>\n",
              "      <td>13000</td>\n",
              "      <td>44875.0</td>\n",
              "      <td>57713.0</td>\n",
              "      <td>0.0</td>\n",
              "      <td>1.0</td>\n",
              "      <td>0.0</td>\n",
              "      <td>184.990324</td>\n",
              "      <td>1.0</td>\n",
              "      <td>12.0</td>\n",
              "      <td>28.602076</td>\n",
              "    </tr>\n",
              "    <tr>\n",
              "      <th>4</th>\n",
              "      <td>19300</td>\n",
              "      <td>72752.0</td>\n",
              "      <td>106084.0</td>\n",
              "      <td>11.0</td>\n",
              "      <td>0.0</td>\n",
              "      <td>0.0</td>\n",
              "      <td>193.707100</td>\n",
              "      <td>1.0</td>\n",
              "      <td>13.0</td>\n",
              "      <td>30.686106</td>\n",
              "    </tr>\n",
              "    <tr>\n",
              "      <th>...</th>\n",
              "      <td>...</td>\n",
              "      <td>...</td>\n",
              "      <td>...</td>\n",
              "      <td>...</td>\n",
              "      <td>...</td>\n",
              "      <td>...</td>\n",
              "      <td>...</td>\n",
              "      <td>...</td>\n",
              "      <td>...</td>\n",
              "      <td>...</td>\n",
              "    </tr>\n",
              "    <tr>\n",
              "      <th>1849</th>\n",
              "      <td>53400</td>\n",
              "      <td>228236.0</td>\n",
              "      <td>305514.0</td>\n",
              "      <td>6.0</td>\n",
              "      <td>0.0</td>\n",
              "      <td>0.0</td>\n",
              "      <td>11.148069</td>\n",
              "      <td>0.0</td>\n",
              "      <td>2.0</td>\n",
              "      <td>34.558417</td>\n",
              "    </tr>\n",
              "    <tr>\n",
              "      <th>1850</th>\n",
              "      <td>53600</td>\n",
              "      <td>235895.0</td>\n",
              "      <td>299772.0</td>\n",
              "      <td>5.0</td>\n",
              "      <td>0.0</td>\n",
              "      <td>0.0</td>\n",
              "      <td>112.748282</td>\n",
              "      <td>7.0</td>\n",
              "      <td>22.0</td>\n",
              "      <td>44.945929</td>\n",
              "    </tr>\n",
              "    <tr>\n",
              "      <th>1851</th>\n",
              "      <td>53600</td>\n",
              "      <td>208197.0</td>\n",
              "      <td>297280.0</td>\n",
              "      <td>4.0</td>\n",
              "      <td>1.0</td>\n",
              "      <td>1.0</td>\n",
              "      <td>160.485251</td>\n",
              "      <td>2.0</td>\n",
              "      <td>29.0</td>\n",
              "      <td>41.646731</td>\n",
              "    </tr>\n",
              "    <tr>\n",
              "      <th>1852</th>\n",
              "      <td>65500</td>\n",
              "      <td>205156.0</td>\n",
              "      <td>290239.0</td>\n",
              "      <td>2.0</td>\n",
              "      <td>0.0</td>\n",
              "      <td>0.0</td>\n",
              "      <td>98.808206</td>\n",
              "      <td>1.0</td>\n",
              "      <td>21.0</td>\n",
              "      <td>144.189001</td>\n",
              "    </tr>\n",
              "    <tr>\n",
              "      <th>1853</th>\n",
              "      <td>77400</td>\n",
              "      <td>87651.0</td>\n",
              "      <td>224630.0</td>\n",
              "      <td>9.0</td>\n",
              "      <td>0.0</td>\n",
              "      <td>2.0</td>\n",
              "      <td>73.469630</td>\n",
              "      <td>3.0</td>\n",
              "      <td>13.0</td>\n",
              "      <td>40.929793</td>\n",
              "    </tr>\n",
              "  </tbody>\n",
              "</table>\n",
              "<p>1854 rows × 10 columns</p>\n",
              "</div>"
            ],
            "text/plain": [
              "       LOAN   MORTDUE     VALUE   YOJ  ...       CLAGE  NINQ  CLNO     DEBTINC\n",
              "0      4700   88026.0  115506.0   6.0  ...  182.248332   0.0  27.0   29.209023\n",
              "1     19300   39926.0  101208.0   4.0  ...  140.051638   0.0  14.0   31.545694\n",
              "2      5700   71556.0   79538.0   2.0  ...   92.643085   0.0  15.0   41.210012\n",
              "3     13000   44875.0   57713.0   0.0  ...  184.990324   1.0  12.0   28.602076\n",
              "4     19300   72752.0  106084.0  11.0  ...  193.707100   1.0  13.0   30.686106\n",
              "...     ...       ...       ...   ...  ...         ...   ...   ...         ...\n",
              "1849  53400  228236.0  305514.0   6.0  ...   11.148069   0.0   2.0   34.558417\n",
              "1850  53600  235895.0  299772.0   5.0  ...  112.748282   7.0  22.0   44.945929\n",
              "1851  53600  208197.0  297280.0   4.0  ...  160.485251   2.0  29.0   41.646731\n",
              "1852  65500  205156.0  290239.0   2.0  ...   98.808206   1.0  21.0  144.189001\n",
              "1853  77400   87651.0  224630.0   9.0  ...   73.469630   3.0  13.0   40.929793\n",
              "\n",
              "[1854 rows x 10 columns]"
            ]
          },
          "metadata": {
            "tags": []
          },
          "execution_count": 2
        }
      ]
    },
    {
      "cell_type": "markdown",
      "metadata": {
        "id": "p7O4A6uRQTYV",
        "colab_type": "text"
      },
      "source": [
        "\n",
        "Documentación:\n",
        "\n",
        "- https://scikit-learn.org/stable/modules/generated/sklearn.model_selection.train_test_split.html"
      ]
    },
    {
      "cell_type": "markdown",
      "metadata": {
        "id": "ikCStkr_QTYW",
        "colab_type": "text"
      },
      "source": [
        "## Ejercicio 1: Descripción de los Datos y la Tarea\n",
        "\n",
        "Responder las siguientes preguntas:\n",
        "\n",
        "1. ¿De qué se trata el conjunto de datos?\n",
        "2. ¿Cuál es la variable objetivo que hay que predecir? ¿Qué significado tiene?\n",
        "3. ¿Qué información (atributos) hay disponible para hacer la predicción?\n",
        "4. ¿Qué atributos imagina ud. que son los más determinantes para la predicción?\n",
        "\n",
        "**No hace falta escribir código para responder estas preguntas.**"
      ]
    },
    {
      "cell_type": "markdown",
      "metadata": {
        "id": "Hp-2SLlsQTYX",
        "colab_type": "text"
      },
      "source": [
        "1. El conjunto de datos se trata de información de clientes del banco que aplicaron y se les dió un crédito. Consta de 1854 entradas, una por cliente y cada fila con 12 columnas, donde cada columna es una variable a evaluar. \n",
        "\n",
        "2. La variable objetivo que se intenta predecir es una variable binaria (BAD) que asume el valor 0 si el aplicante logró pagar el crédito que se le otorgó y 1 si no pudo pagarlo.\n",
        "    \n",
        "    - TARGET  :1 = el cliente no pagó el crédito - 0 = el cliente pagó el crédito\n",
        "    \n",
        "\n",
        "3. Los atributos disponibles para la predicción son los siguientes:\n",
        "\n",
        "    - LOAN    Monto del préstamo solicitado\n",
        "    - MORTDUE Monto adeudado por hipoteca existente\n",
        "    - VALUE   Valor de la propiedad actual\n",
        "    - YOJ     Años en el trabajo actual\n",
        "    - DEROG   Mayor número de informes derogatorios\n",
        "    - DELINQ  Número de líneas de crédito morosas\n",
        "    - CLAGE   Edad de la línea de crédito más antigua en meses\n",
        "    - NINQ    Número de líneas de credito recientes\n",
        "    - CLNO    Número de líneas de crédito\n",
        "    - DEBTINC Relación deuda-ingresos\n",
        "    \n",
        "    \n",
        "    \n",
        "4. Consideramos más determinantes para la predicción al monto adeudado por hipoteca existente (MORTDUE), la relación deuda-ingreso (DEBTINC), el número de líneas de crédito morosas (DELINQ), el monto del préstamo solicitado (LOAN) y el mayor número de informes derogatorios (DEROG)."
      ]
    },
    {
      "cell_type": "markdown",
      "metadata": {
        "id": "C29PoEcBQTYd",
        "colab_type": "text"
      },
      "source": [
        "## Ejercicio 2: Predicción con Modelos Lineales\n",
        "\n",
        "En este ejercicio se entrenarán modelos lineales de clasificación para predecir la variable objetivo.\n",
        "\n",
        "Para ello, deberán utilizar la clase SGDClassifier de scikit-learn.\n",
        "\n",
        "Documentación:\n",
        "- https://scikit-learn.org/stable/modules/sgd.html\n",
        "- https://scikit-learn.org/stable/modules/generated/sklearn.linear_model.SGDClassifier.html\n"
      ]
    },
    {
      "cell_type": "markdown",
      "metadata": {
        "id": "a0dUMLuLQTYe",
        "colab_type": "text"
      },
      "source": [
        "### Ejercicio 2.1: SGDClassifier con hiperparámetros por defecto\n",
        "\n",
        "Entrenar y evaluar el clasificador SGDClassifier usando los valores por omisión de scikit-learn para todos los parámetros. Únicamente **fijar la semilla aleatoria** para hacer repetible el experimento.\n",
        "\n",
        "Evaluar sobre el conjunto de **entrenamiento** y sobre el conjunto de **evaluación**, reportando:\n",
        "- Accuracy\n",
        "- Precision\n",
        "- Recall\n",
        "- F1\n",
        "- matriz de confusión"
      ]
    },
    {
      "cell_type": "code",
      "metadata": {
        "id": "4uBCLdDOQTYe",
        "colab_type": "code",
        "colab": {
          "base_uri": "https://localhost:8080/",
          "height": 247
        },
        "outputId": "0339d30f-8a0e-4947-cbbf-b56991fcbd34"
      },
      "source": [
        "def print_metrics(y_true, y_pred):\n",
        "    print(f\"Accuracy: {accuracy_score(y_true, y_pred):0.4}\")\n",
        "    print(f\"Precision: {precision_score(y_true, y_pred):0.4}\")\n",
        "    print(f\"Recall: {recall_score(y_true, y_pred):0.4}\")\n",
        "    print(f\"F1: {f1_score(y_true, y_pred):0.4}\")\n",
        "    print(\"Confusion matrix:\\n\", confusion_matrix(y_true, y_pred),\"\\n\\n\")\n",
        "\n",
        "def print_confusion_matrix(clf, X_train, y_train, X_test, y_test):\n",
        "  fig, axs = plt.subplots(1,2,figsize=(10,5))\n",
        "  fig.suptitle('Matrices de confusión')\n",
        "  axs[0].title.set_text('Entrenamiento')\n",
        "  axs[1].title.set_text('Evaluación')\n",
        "  fig.tight_layout(pad=5.0)\n",
        "\n",
        "  p1=plot_confusion_matrix(clf, X_train, y_train, ax=axs[0], cmap=plt.cm.Blues, values_format='d')\n",
        "  p2=plot_confusion_matrix(clf, X_test, y_test, ax=axs[1], cmap=plt.cm.Blues, values_format='d')\n",
        "\n",
        "# Normalizamos los datos ya que el algoritmo SGD es sensible al escalamiento de los atributos (feature scaling)\n",
        "sgd_train = make_pipeline(StandardScaler(), SGDClassifier(random_state=0))\n",
        "sgd_train.fit(X_train, y_train)\n"
      ],
      "execution_count": null,
      "outputs": [
        {
          "output_type": "execute_result",
          "data": {
            "text/plain": [
              "Pipeline(memory=None,\n",
              "         steps=[('standardscaler',\n",
              "                 StandardScaler(copy=True, with_mean=True, with_std=True)),\n",
              "                ('sgdclassifier',\n",
              "                 SGDClassifier(alpha=0.0001, average=False, class_weight=None,\n",
              "                               early_stopping=False, epsilon=0.1, eta0=0.0,\n",
              "                               fit_intercept=True, l1_ratio=0.15,\n",
              "                               learning_rate='optimal', loss='hinge',\n",
              "                               max_iter=1000, n_iter_no_change=5, n_jobs=None,\n",
              "                               penalty='l2', power_t=0.5, random_state=0,\n",
              "                               shuffle=True, tol=0.001, validation_fraction=0.1,\n",
              "                               verbose=0, warm_start=False))],\n",
              "         verbose=False)"
            ]
          },
          "metadata": {
            "tags": []
          },
          "execution_count": 3
        }
      ]
    },
    {
      "cell_type": "markdown",
      "metadata": {
        "id": "mBHEdTeX30dI",
        "colab_type": "text"
      },
      "source": [
        "<br>\n",
        "\n",
        "###Métricas del modelo con parámetros por defecto"
      ]
    },
    {
      "cell_type": "code",
      "metadata": {
        "id": "ELZQu6q2ozT6",
        "colab_type": "code",
        "colab": {
          "base_uri": "https://localhost:8080/",
          "height": 691
        },
        "outputId": "02a3b025-88c3-4f47-b951-ea966b2274b1"
      },
      "source": [
        "y_train_pred = sgd_train.predict(X_train)\n",
        "print(\"Metricas sobre el conjunto de entrenamiento:\")\n",
        "print_metrics(y_train, y_train_pred)\n",
        "\n",
        "\n",
        "y_test_pred = sgd_train.predict(X_test)\n",
        "print(\"Metricas sobre el conjunto de evaluación:\")\n",
        "print_metrics(y_test, y_test_pred)\n",
        "\n",
        "print_confusion_matrix(sgd_train, X_train, y_train, X_test, y_test)"
      ],
      "execution_count": null,
      "outputs": [
        {
          "output_type": "stream",
          "text": [
            "Metricas sobre el conjunto de entrenamiento:\n",
            "Accuracy: 0.8732\n",
            "Precision: 0.7143\n",
            "Recall: 0.4183\n",
            "F1: 0.5276\n",
            "Confusion matrix:\n",
            " [[1190   42]\n",
            " [ 146  105]] \n",
            "\n",
            "\n",
            "Metricas sobre el conjunto de evaluación:\n",
            "Accuracy: 0.8679\n",
            "Precision: 0.6452\n",
            "Recall: 0.3448\n",
            "F1: 0.4494\n",
            "Confusion matrix:\n",
            " [[302  11]\n",
            " [ 38  20]] \n",
            "\n",
            "\n"
          ],
          "name": "stdout"
        },
        {
          "output_type": "display_data",
          "data": {
            "image/png": "[encoded data removed]",
            "text/plain": [
              "<Figure size 720x360 with 4 Axes>"
            ]
          },
          "metadata": {
            "tags": [],
            "needs_background": "light"
          }
        }
      ]
    },
    {
      "cell_type": "markdown",
      "metadata": {
        "id": "P8Xuh9cxQTYi",
        "colab_type": "text"
      },
      "source": [
        "<br>\n",
        "\n",
        "### Ejercicio 2.2: Ajuste de Hiperparámetros\n",
        "\n",
        "Seleccionar valores para los hiperparámetros principales del SGDClassifier. Como mínimo, probar diferentes funciones de loss, tasas de entrenamiento y tasas de regularización.\n",
        "\n",
        "Para ello, usar grid-search y 5-fold cross-validation sobre el conjunto de entrenamiento para explorar muchas combinaciones posibles de valores.\n",
        "\n",
        "Reportar accuracy promedio y varianza para todas las configuraciones.\n",
        "\n",
        "Para la mejor configuración encontrada, evaluar sobre el conjunto de **entrenamiento** y sobre el conjunto de **evaluación**, reportando:\n",
        "- Accuracy\n",
        "- Precision\n",
        "- Recall\n",
        "- F1\n",
        "- matriz de confusión\n",
        "\n",
        "Documentación:\n",
        "- https://scikit-learn.org/stable/modules/grid_search.html\n",
        "- https://scikit-learn.org/stable/modules/generated/sklearn.model_selection.GridSearchCV.html"
      ]
    },
    {
      "cell_type": "code",
      "metadata": {
        "id": "9q93ELWjQTYj",
        "colab_type": "code",
        "colab": {
          "base_uri": "https://localhost:8080/",
          "height": 550
        },
        "outputId": "e5da961d-427d-484e-e7a7-4d8ddebf643a"
      },
      "source": [
        "param_grid = {\n",
        "    'sgdclassifier__learning_rate': ('constant','optimal','invscaling','adaptive'),\n",
        "    'sgdclassifier__loss': ('hinge', 'log', 'modified_huber','squared_hinge','perceptron'),\n",
        "    'sgdclassifier__penalty': ('l1', 'l2', 'elasticnet'), # Término de regularización\n",
        "    'sgdclassifier__alpha': (0.1, 0.01, 0.001, 0.0001),   # Tasa de regularización\n",
        "    'sgdclassifier__eta0':  (0.1, 0.01, 0.001, 0.0001),   # Tasa de entrenamiento\n",
        "}\n",
        "\n",
        "with warnings.catch_warnings():\n",
        "  warnings.filterwarnings(\"ignore\")\n",
        "  model=make_pipeline(StandardScaler(), SGDClassifier(random_state=0))\n",
        "  cv = GridSearchCV(model, param_grid, scoring='accuracy', cv=5)\n",
        "  cv.fit(X_train, y_train)\n",
        "cv"
      ],
      "execution_count": null,
      "outputs": [
        {
          "output_type": "execute_result",
          "data": {
            "text/plain": [
              "GridSearchCV(cv=5, error_score=nan,\n",
              "             estimator=Pipeline(memory=None,\n",
              "                                steps=[('standardscaler',\n",
              "                                        StandardScaler(copy=True,\n",
              "                                                       with_mean=True,\n",
              "                                                       with_std=True)),\n",
              "                                       ('sgdclassifier',\n",
              "                                        SGDClassifier(alpha=0.0001,\n",
              "                                                      average=False,\n",
              "                                                      class_weight=None,\n",
              "                                                      early_stopping=False,\n",
              "                                                      epsilon=0.1, eta0=0.0,\n",
              "                                                      fit_intercept=True,\n",
              "                                                      l1_ratio=0.15,\n",
              "                                                      learning_rate='optimal',\n",
              "                                                      loss='hinge',\n",
              "                                                      max_iter=1000,\n",
              "                                                      n_...\n",
              "             param_grid={'sgdclassifier__alpha': (0.1, 0.01, 0.001, 0.0001),\n",
              "                         'sgdclassifier__eta0': (0.1, 0.01, 0.001, 0.0001),\n",
              "                         'sgdclassifier__learning_rate': ('constant', 'optimal',\n",
              "                                                          'invscaling',\n",
              "                                                          'adaptive'),\n",
              "                         'sgdclassifier__loss': ('hinge', 'log',\n",
              "                                                 'modified_huber',\n",
              "                                                 'squared_hinge',\n",
              "                                                 'perceptron'),\n",
              "                         'sgdclassifier__penalty': ('l1', 'l2', 'elasticnet')},\n",
              "             pre_dispatch='2*n_jobs', refit=True, return_train_score=False,\n",
              "             scoring='accuracy', verbose=0)"
            ]
          },
          "metadata": {
            "tags": []
          },
          "execution_count": 5
        }
      ]
    },
    {
      "cell_type": "markdown",
      "metadata": {
        "id": "WS_AALk84OJq",
        "colab_type": "text"
      },
      "source": [
        "<br>\n",
        "\n",
        "###Métricas del modelo con parámetros personalizados"
      ]
    },
    {
      "cell_type": "code",
      "metadata": {
        "id": "TF_oTork_Vay",
        "colab_type": "code",
        "colab": {
          "base_uri": "https://localhost:8080/",
          "height": 347
        },
        "outputId": "5e36f77a-d2d7-4b62-8b0f-f607ed285bd8"
      },
      "source": [
        "def beautify_results(df):\n",
        "    df.columns = [re.sub('param_(sgdclassifier__)*', '', x) for x in df.columns.values]\n",
        "    df.std_test_score=df.std_test_score**2\n",
        "    df.rename(columns={'mean_test_score': 'mean_accuracy', 'std_test_score': 'variance', 'rank_test_score': 'rank'}, inplace = True)\n",
        "\n",
        "df=pd.DataFrame(cv.cv_results_)\n",
        "beautify_results(df)\n",
        "display(df[['alpha','eta0','learning_rate','loss','penalty','mean_accuracy','variance','rank']].sort_values(by='rank').head(10))"
      ],
      "execution_count": null,
      "outputs": [
        {
          "output_type": "display_data",
          "data": {
            "text/html": [
              "<div>\n",
              "<style scoped>\n",
              "    .dataframe tbody tr th:only-of-type {\n",
              "        vertical-align: middle;\n",
              "    }\n",
              "\n",
              "    .dataframe tbody tr th {\n",
              "        vertical-align: top;\n",
              "    }\n",
              "\n",
              "    .dataframe thead th {\n",
              "        text-align: right;\n",
              "    }\n",
              "</style>\n",
              "<table border=\"1\" class=\"dataframe\">\n",
              "  <thead>\n",
              "    <tr style=\"text-align: right;\">\n",
              "      <th></th>\n",
              "      <th>alpha</th>\n",
              "      <th>eta0</th>\n",
              "      <th>learning_rate</th>\n",
              "      <th>loss</th>\n",
              "      <th>penalty</th>\n",
              "      <th>mean_accuracy</th>\n",
              "      <th>variance</th>\n",
              "      <th>rank</th>\n",
              "    </tr>\n",
              "  </thead>\n",
              "  <tbody>\n",
              "    <tr>\n",
              "      <th>781</th>\n",
              "      <td>0.0001</td>\n",
              "      <td>0.01</td>\n",
              "      <td>constant</td>\n",
              "      <td>hinge</td>\n",
              "      <td>l2</td>\n",
              "      <td>0.871886</td>\n",
              "      <td>0.000049</td>\n",
              "      <td>1</td>\n",
              "    </tr>\n",
              "    <tr>\n",
              "      <th>585</th>\n",
              "      <td>0.001</td>\n",
              "      <td>0.01</td>\n",
              "      <td>adaptive</td>\n",
              "      <td>hinge</td>\n",
              "      <td>l1</td>\n",
              "      <td>0.871208</td>\n",
              "      <td>0.000084</td>\n",
              "      <td>2</td>\n",
              "    </tr>\n",
              "    <tr>\n",
              "      <th>765</th>\n",
              "      <td>0.0001</td>\n",
              "      <td>0.1</td>\n",
              "      <td>adaptive</td>\n",
              "      <td>hinge</td>\n",
              "      <td>l1</td>\n",
              "      <td>0.871208</td>\n",
              "      <td>0.000084</td>\n",
              "      <td>2</td>\n",
              "    </tr>\n",
              "    <tr>\n",
              "      <th>527</th>\n",
              "      <td>0.001</td>\n",
              "      <td>0.1</td>\n",
              "      <td>adaptive</td>\n",
              "      <td>hinge</td>\n",
              "      <td>elasticnet</td>\n",
              "      <td>0.871208</td>\n",
              "      <td>0.000084</td>\n",
              "      <td>2</td>\n",
              "    </tr>\n",
              "    <tr>\n",
              "      <th>525</th>\n",
              "      <td>0.001</td>\n",
              "      <td>0.1</td>\n",
              "      <td>adaptive</td>\n",
              "      <td>hinge</td>\n",
              "      <td>l1</td>\n",
              "      <td>0.871208</td>\n",
              "      <td>0.000084</td>\n",
              "      <td>2</td>\n",
              "    </tr>\n",
              "    <tr>\n",
              "      <th>768</th>\n",
              "      <td>0.0001</td>\n",
              "      <td>0.1</td>\n",
              "      <td>adaptive</td>\n",
              "      <td>log</td>\n",
              "      <td>l1</td>\n",
              "      <td>0.870539</td>\n",
              "      <td>0.000129</td>\n",
              "      <td>6</td>\n",
              "    </tr>\n",
              "    <tr>\n",
              "      <th>770</th>\n",
              "      <td>0.0001</td>\n",
              "      <td>0.1</td>\n",
              "      <td>adaptive</td>\n",
              "      <td>log</td>\n",
              "      <td>elasticnet</td>\n",
              "      <td>0.870539</td>\n",
              "      <td>0.000129</td>\n",
              "      <td>6</td>\n",
              "    </tr>\n",
              "    <tr>\n",
              "      <th>769</th>\n",
              "      <td>0.0001</td>\n",
              "      <td>0.1</td>\n",
              "      <td>adaptive</td>\n",
              "      <td>log</td>\n",
              "      <td>l2</td>\n",
              "      <td>0.870539</td>\n",
              "      <td>0.000129</td>\n",
              "      <td>6</td>\n",
              "    </tr>\n",
              "    <tr>\n",
              "      <th>783</th>\n",
              "      <td>0.0001</td>\n",
              "      <td>0.01</td>\n",
              "      <td>constant</td>\n",
              "      <td>log</td>\n",
              "      <td>l1</td>\n",
              "      <td>0.870539</td>\n",
              "      <td>0.000138</td>\n",
              "      <td>6</td>\n",
              "    </tr>\n",
              "    <tr>\n",
              "      <th>785</th>\n",
              "      <td>0.0001</td>\n",
              "      <td>0.01</td>\n",
              "      <td>constant</td>\n",
              "      <td>log</td>\n",
              "      <td>elasticnet</td>\n",
              "      <td>0.870539</td>\n",
              "      <td>0.000138</td>\n",
              "      <td>6</td>\n",
              "    </tr>\n",
              "  </tbody>\n",
              "</table>\n",
              "</div>"
            ],
            "text/plain": [
              "      alpha  eta0 learning_rate  ... mean_accuracy  variance  rank\n",
              "781  0.0001  0.01      constant  ...      0.871886  0.000049     1\n",
              "585   0.001  0.01      adaptive  ...      0.871208  0.000084     2\n",
              "765  0.0001   0.1      adaptive  ...      0.871208  0.000084     2\n",
              "527   0.001   0.1      adaptive  ...      0.871208  0.000084     2\n",
              "525   0.001   0.1      adaptive  ...      0.871208  0.000084     2\n",
              "768  0.0001   0.1      adaptive  ...      0.870539  0.000129     6\n",
              "770  0.0001   0.1      adaptive  ...      0.870539  0.000129     6\n",
              "769  0.0001   0.1      adaptive  ...      0.870539  0.000129     6\n",
              "783  0.0001  0.01      constant  ...      0.870539  0.000138     6\n",
              "785  0.0001  0.01      constant  ...      0.870539  0.000138     6\n",
              "\n",
              "[10 rows x 8 columns]"
            ]
          },
          "metadata": {
            "tags": []
          }
        }
      ]
    },
    {
      "cell_type": "markdown",
      "metadata": {
        "id": "j0ZPchgVJ1Jz",
        "colab_type": "text"
      },
      "source": [
        "<br>\n",
        "\n",
        "###Mejor estimador encontrado"
      ]
    },
    {
      "cell_type": "code",
      "metadata": {
        "id": "5oKkze3eQTYn",
        "colab_type": "code",
        "colab": {
          "base_uri": "https://localhost:8080/",
          "height": 336
        },
        "outputId": "8513ccd1-5d24-495a-9fa7-d8698012740e"
      },
      "source": [
        "print(\"Mejor estimador:\\n\",cv.best_estimator_,\"\\n\")\n",
        "print(\"Mejor resultado:\\n\",cv.best_score_,\"\\n\")\n"
      ],
      "execution_count": null,
      "outputs": [
        {
          "output_type": "stream",
          "text": [
            "Mejor estimador:\n",
            " Pipeline(memory=None,\n",
            "         steps=[('standardscaler',\n",
            "                 StandardScaler(copy=True, with_mean=True, with_std=True)),\n",
            "                ('sgdclassifier',\n",
            "                 SGDClassifier(alpha=0.0001, average=False, class_weight=None,\n",
            "                               early_stopping=False, epsilon=0.1, eta0=0.01,\n",
            "                               fit_intercept=True, l1_ratio=0.15,\n",
            "                               learning_rate='constant', loss='hinge',\n",
            "                               max_iter=1000, n_iter_no_change=5, n_jobs=None,\n",
            "                               penalty='l2', power_t=0.5, random_state=0,\n",
            "                               shuffle=True, tol=0.001, validation_fraction=0.1,\n",
            "                               verbose=0, warm_start=False))],\n",
            "         verbose=False) \n",
            "\n",
            "Mejor resultado:\n",
            " 0.8718855218855219 \n",
            "\n"
          ],
          "name": "stdout"
        }
      ]
    },
    {
      "cell_type": "markdown",
      "metadata": {
        "id": "znE8huk0I_d0",
        "colab_type": "text"
      },
      "source": [
        "\n",
        "<br>\n",
        "\n",
        "###Evaluamos el modelo usando el mejor estimador"
      ]
    },
    {
      "cell_type": "code",
      "metadata": {
        "id": "qhJZR4grQTYs",
        "colab_type": "code",
        "colab": {
          "base_uri": "https://localhost:8080/",
          "height": 691
        },
        "outputId": "7247d80c-2618-4469-b16b-b20844947b20"
      },
      "source": [
        "y_train_pred = cv.predict(X_train)\n",
        "print(\"Metricas sobre el conjunto de entrenamiento:\")\n",
        "print_metrics(y_train, y_train_pred)\n",
        "\n",
        "y_test_pred = cv.predict(X_test)\n",
        "print(\"Metricas sobre el conjunto de evaluación:\")\n",
        "print_metrics(y_test, y_test_pred)\n",
        "\n",
        "print_confusion_matrix(cv, X_train, y_train,X_test, y_test)"
      ],
      "execution_count": null,
      "outputs": [
        {
          "output_type": "stream",
          "text": [
            "Metricas sobre el conjunto de entrenamiento:\n",
            "Accuracy: 0.8719\n",
            "Precision: 0.8765\n",
            "Recall: 0.2829\n",
            "F1: 0.4277\n",
            "Confusion matrix:\n",
            " [[1222   10]\n",
            " [ 180   71]] \n",
            "\n",
            "\n",
            "Metricas sobre el conjunto de evaluación:\n",
            "Accuracy: 0.8841\n",
            "Precision: 0.9412\n",
            "Recall: 0.2759\n",
            "F1: 0.4267\n",
            "Confusion matrix:\n",
            " [[312   1]\n",
            " [ 42  16]] \n",
            "\n",
            "\n"
          ],
          "name": "stdout"
        },
        {
          "output_type": "display_data",
          "data": {
            "image/png": "[encoded data removed]",
            "text/plain": [
              "<Figure size 720x360 with 4 Axes>"
            ]
          },
          "metadata": {
            "tags": [],
            "needs_background": "light"
          }
        }
      ]
    },
    {
      "cell_type": "markdown",
      "metadata": {
        "id": "Ex1378h7QTYw",
        "colab_type": "text"
      },
      "source": [
        "<br>\n",
        "\n",
        "## Ejercicio 3: Árboles de Decisión\n",
        "\n",
        "En este ejercicio se entrenarán árboles de decisión para predecir la variable objetivo.\n",
        "\n",
        "Para ello, deberán utilizar la clase DecisionTreeClassifier de scikit-learn.\n",
        "\n",
        "Documentación:\n",
        "- https://scikit-learn.org/stable/modules/tree.html\n",
        "  - https://scikit-learn.org/stable/modules/tree.html#tips-on-practical-use\n",
        "- https://scikit-learn.org/stable/modules/generated/sklearn.tree.DecisionTreeClassifier.html\n",
        "- https://scikit-learn.org/stable/auto_examples/tree/plot_unveil_tree_structure.html"
      ]
    },
    {
      "cell_type": "markdown",
      "metadata": {
        "id": "Wm2gnMu3QTYw",
        "colab_type": "text"
      },
      "source": [
        "### Ejercicio 3.1: DecisionTreeClassifier con hiperparámetros por defecto\n",
        "\n",
        "Entrenar y evaluar el clasificador DecisionTreeClassifier usando los valores por omisión de scikit-learn para todos los parámetros. Únicamente **fijar la semilla aleatoria** para hacer repetible el experimento.\n",
        "\n",
        "Evaluar sobre el conjunto de **entrenamiento** y sobre el conjunto de **evaluación**, reportando:\n",
        "- Accuracy\n",
        "- Precision\n",
        "- Recall\n",
        "- F1\n",
        "- matriz de confusión\n"
      ]
    },
    {
      "cell_type": "code",
      "metadata": {
        "id": "1KTuqJ4xomO9",
        "colab_type": "code",
        "colab": {
          "base_uri": "https://localhost:8080/",
          "height": 123
        },
        "outputId": "4d7584bb-e950-4248-fc04-5c2397366e27"
      },
      "source": [
        "clf=DecisionTreeClassifier(random_state=0)\n",
        "clf.fit(X_train, y_train)"
      ],
      "execution_count": null,
      "outputs": [
        {
          "output_type": "execute_result",
          "data": {
            "text/plain": [
              "DecisionTreeClassifier(ccp_alpha=0.0, class_weight=None, criterion='gini',\n",
              "                       max_depth=None, max_features=None, max_leaf_nodes=None,\n",
              "                       min_impurity_decrease=0.0, min_impurity_split=None,\n",
              "                       min_samples_leaf=1, min_samples_split=2,\n",
              "                       min_weight_fraction_leaf=0.0, presort='deprecated',\n",
              "                       random_state=0, splitter='best')"
            ]
          },
          "metadata": {
            "tags": []
          },
          "execution_count": 9
        }
      ]
    },
    {
      "cell_type": "markdown",
      "metadata": {
        "id": "KlF3p8iy4opT",
        "colab_type": "text"
      },
      "source": [
        "<br>\n",
        "\n",
        "###Métricas del modelo con parámetros por defecto"
      ]
    },
    {
      "cell_type": "code",
      "metadata": {
        "id": "2I6p8L2jn_F3",
        "colab_type": "code",
        "colab": {
          "base_uri": "https://localhost:8080/",
          "height": 708
        },
        "outputId": "00e300e8-2812-4dad-dda0-51426e93f045"
      },
      "source": [
        "y_train_pred = clf.predict(X_train)\n",
        "print('Metricas sobre el conjunto de entrenamiento: \\n')\n",
        "print_metrics(y_train, y_train_pred)\n",
        "\n",
        "y_test_pred = clf.predict(X_test)\n",
        "print(\"Metricas sobre el conjunto de evaluación:\")\n",
        "print_metrics(y_test, y_test_pred)\n",
        "\n",
        "print_confusion_matrix(clf, X_train, y_train,X_test, y_test)"
      ],
      "execution_count": null,
      "outputs": [
        {
          "output_type": "stream",
          "text": [
            "Metricas sobre el conjunto de entrenamiento: \n",
            "\n",
            "Accuracy: 1.0\n",
            "Precision: 1.0\n",
            "Recall: 1.0\n",
            "F1: 1.0\n",
            "Confusion matrix:\n",
            " [[1232    0]\n",
            " [   0  251]] \n",
            "\n",
            "\n",
            "Metricas sobre el conjunto de evaluación:\n",
            "Accuracy: 0.8814\n",
            "Precision: 0.6167\n",
            "Recall: 0.6379\n",
            "F1: 0.6271\n",
            "Confusion matrix:\n",
            " [[290  23]\n",
            " [ 21  37]] \n",
            "\n",
            "\n"
          ],
          "name": "stdout"
        },
        {
          "output_type": "display_data",
          "data": {
            "image/png": "[encoded data removed]",
            "text/plain": [
              "<Figure size 720x360 with 4 Axes>"
            ]
          },
          "metadata": {
            "tags": [],
            "needs_background": "light"
          }
        }
      ]
    },
    {
      "cell_type": "markdown",
      "metadata": {
        "id": "KaGwlQHoQTYx",
        "colab_type": "text"
      },
      "source": [
        "### Ejercicio 3.2: Ajuste de Hiperparámetros\n",
        "\n",
        "Seleccionar valores para los hiperparámetros principales del DecisionTreeClassifier. Como mínimo, probar diferentes criterios de partición (criterion), profundidad máxima del árbol (max_depth), y cantidad mínima de samples por hoja (min_samples_leaf).\n",
        "\n",
        "Para ello, usar grid-search y 5-fold cross-validation sobre el conjunto de entrenamiento para explorar muchas combinaciones posibles de valores.\n",
        "\n",
        "Reportar accuracy promedio y varianza para todas las configuraciones.\n",
        "\n",
        "Para la mejor configuración encontrada, evaluar sobre el conjunto de **entrenamiento** y sobre el conjunto de **evaluación**, reportando:\n",
        "- Accuracy\n",
        "- Precision\n",
        "- Recall\n",
        "- F1\n",
        "- matriz de confusión\n",
        "\n",
        "\n",
        "Documentación:\n",
        "- https://scikit-learn.org/stable/modules/grid_search.html\n",
        "- https://scikit-learn.org/stable/modules/generated/sklearn.model_selection.GridSearchCV.html"
      ]
    },
    {
      "cell_type": "code",
      "metadata": {
        "id": "CaB9-MZyoy8U",
        "colab_type": "code",
        "colab": {
          "base_uri": "https://localhost:8080/",
          "height": 407
        },
        "outputId": "1c8549e5-2b2f-42f5-c640-ce8db0ae9d35"
      },
      "source": [
        "param_grid = {\n",
        "    'criterion': ['gini', 'entropy'],\n",
        "    'max_depth': [4,5,6,7,8,9,10,11,12,13],\n",
        "    'min_samples_leaf': [1,2,3,4,5,6,7,8,9,10,11,12,13,15],\n",
        "    'splitter': ['best','random'],\n",
        "    'max_features': ['auto', 'sqrt', 'log2', None, 2, 3, 5, 7, 9],\n",
        "}\n",
        "\n",
        "model=DecisionTreeClassifier(random_state=0)\n",
        "cv = GridSearchCV(model, param_grid, scoring='accuracy', cv=5)\n",
        "cv.fit(X_train, y_train)\n",
        "cv"
      ],
      "execution_count": null,
      "outputs": [
        {
          "output_type": "execute_result",
          "data": {
            "text/plain": [
              "GridSearchCV(cv=5, error_score=nan,\n",
              "             estimator=DecisionTreeClassifier(ccp_alpha=0.0, class_weight=None,\n",
              "                                              criterion='gini', max_depth=None,\n",
              "                                              max_features=None,\n",
              "                                              max_leaf_nodes=None,\n",
              "                                              min_impurity_decrease=0.0,\n",
              "                                              min_impurity_split=None,\n",
              "                                              min_samples_leaf=1,\n",
              "                                              min_samples_split=2,\n",
              "                                              min_weight_fraction_leaf=0.0,\n",
              "                                              presort='deprecated',\n",
              "                                              random_state=0, splitter='best'),\n",
              "             iid='deprecated', n_jobs=None,\n",
              "             param_grid={'criterion': ['gini', 'entropy'],\n",
              "                         'max_depth': [4, 5, 6, 7, 8, 9, 10, 11, 12, 13],\n",
              "                         'max_features': ['auto', 'sqrt', 'log2', None, 2, 3, 5,\n",
              "                                          7, 9],\n",
              "                         'min_samples_leaf': [1, 2, 3, 4, 5, 6, 7, 8, 9, 10, 11,\n",
              "                                              12, 13, 15],\n",
              "                         'splitter': ['best', 'random']},\n",
              "             pre_dispatch='2*n_jobs', refit=True, return_train_score=False,\n",
              "             scoring='accuracy', verbose=0)"
            ]
          },
          "metadata": {
            "tags": []
          },
          "execution_count": 11
        }
      ]
    },
    {
      "cell_type": "markdown",
      "metadata": {
        "id": "1h55J43x45W-",
        "colab_type": "text"
      },
      "source": [
        "<br>\n",
        "\n",
        "###Métricas del modelo con parámetros personalizados"
      ]
    },
    {
      "cell_type": "code",
      "metadata": {
        "id": "On85LqPANWvZ",
        "colab_type": "code",
        "colab": {
          "base_uri": "https://localhost:8080/",
          "height": 347
        },
        "outputId": "3b339527-52d2-47e6-f9a0-7a8201651027"
      },
      "source": [
        "df=pd.DataFrame(cv.cv_results_)\n",
        "beautify_results(df)\n",
        "df[['criterion','splitter','max_depth','max_features','min_samples_leaf','mean_accuracy','variance','rank']].sort_values(by='rank').head(10)"
      ],
      "execution_count": null,
      "outputs": [
        {
          "output_type": "execute_result",
          "data": {
            "text/html": [
              "<div>\n",
              "<style scoped>\n",
              "    .dataframe tbody tr th:only-of-type {\n",
              "        vertical-align: middle;\n",
              "    }\n",
              "\n",
              "    .dataframe tbody tr th {\n",
              "        vertical-align: top;\n",
              "    }\n",
              "\n",
              "    .dataframe thead th {\n",
              "        text-align: right;\n",
              "    }\n",
              "</style>\n",
              "<table border=\"1\" class=\"dataframe\">\n",
              "  <thead>\n",
              "    <tr style=\"text-align: right;\">\n",
              "      <th></th>\n",
              "      <th>criterion</th>\n",
              "      <th>splitter</th>\n",
              "      <th>max_depth</th>\n",
              "      <th>max_features</th>\n",
              "      <th>min_samples_leaf</th>\n",
              "      <th>mean_accuracy</th>\n",
              "      <th>variance</th>\n",
              "      <th>rank</th>\n",
              "    </tr>\n",
              "  </thead>\n",
              "  <tbody>\n",
              "    <tr>\n",
              "      <th>1004</th>\n",
              "      <td>gini</td>\n",
              "      <td>best</td>\n",
              "      <td>7</td>\n",
              "      <td>9</td>\n",
              "      <td>13</td>\n",
              "      <td>0.889433</td>\n",
              "      <td>0.000339</td>\n",
              "      <td>1</td>\n",
              "    </tr>\n",
              "    <tr>\n",
              "      <th>746</th>\n",
              "      <td>gini</td>\n",
              "      <td>best</td>\n",
              "      <td>6</td>\n",
              "      <td>9</td>\n",
              "      <td>10</td>\n",
              "      <td>0.889410</td>\n",
              "      <td>0.000116</td>\n",
              "      <td>2</td>\n",
              "    </tr>\n",
              "    <tr>\n",
              "      <th>2128</th>\n",
              "      <td>gini</td>\n",
              "      <td>best</td>\n",
              "      <td>12</td>\n",
              "      <td>2</td>\n",
              "      <td>1</td>\n",
              "      <td>0.888746</td>\n",
              "      <td>0.000172</td>\n",
              "      <td>3</td>\n",
              "    </tr>\n",
              "    <tr>\n",
              "      <th>1002</th>\n",
              "      <td>gini</td>\n",
              "      <td>best</td>\n",
              "      <td>7</td>\n",
              "      <td>9</td>\n",
              "      <td>12</td>\n",
              "      <td>0.888077</td>\n",
              "      <td>0.000122</td>\n",
              "      <td>4</td>\n",
              "    </tr>\n",
              "    <tr>\n",
              "      <th>4509</th>\n",
              "      <td>entropy</td>\n",
              "      <td>random</td>\n",
              "      <td>11</td>\n",
              "      <td>9</td>\n",
              "      <td>1</td>\n",
              "      <td>0.888070</td>\n",
              "      <td>0.000337</td>\n",
              "      <td>5</td>\n",
              "    </tr>\n",
              "    <tr>\n",
              "      <th>750</th>\n",
              "      <td>gini</td>\n",
              "      <td>best</td>\n",
              "      <td>6</td>\n",
              "      <td>9</td>\n",
              "      <td>12</td>\n",
              "      <td>0.888065</td>\n",
              "      <td>0.000311</td>\n",
              "      <td>6</td>\n",
              "    </tr>\n",
              "    <tr>\n",
              "      <th>492</th>\n",
              "      <td>gini</td>\n",
              "      <td>best</td>\n",
              "      <td>5</td>\n",
              "      <td>9</td>\n",
              "      <td>9</td>\n",
              "      <td>0.888065</td>\n",
              "      <td>0.000093</td>\n",
              "      <td>6</td>\n",
              "    </tr>\n",
              "    <tr>\n",
              "      <th>1989</th>\n",
              "      <td>gini</td>\n",
              "      <td>random</td>\n",
              "      <td>11</td>\n",
              "      <td>9</td>\n",
              "      <td>1</td>\n",
              "      <td>0.887403</td>\n",
              "      <td>0.000209</td>\n",
              "      <td>8</td>\n",
              "    </tr>\n",
              "    <tr>\n",
              "      <th>494</th>\n",
              "      <td>gini</td>\n",
              "      <td>best</td>\n",
              "      <td>5</td>\n",
              "      <td>9</td>\n",
              "      <td>10</td>\n",
              "      <td>0.887396</td>\n",
              "      <td>0.000056</td>\n",
              "      <td>9</td>\n",
              "    </tr>\n",
              "    <tr>\n",
              "      <th>672</th>\n",
              "      <td>gini</td>\n",
              "      <td>best</td>\n",
              "      <td>6</td>\n",
              "      <td>5</td>\n",
              "      <td>1</td>\n",
              "      <td>0.887396</td>\n",
              "      <td>0.000106</td>\n",
              "      <td>10</td>\n",
              "    </tr>\n",
              "  </tbody>\n",
              "</table>\n",
              "</div>"
            ],
            "text/plain": [
              "     criterion splitter max_depth  ... mean_accuracy  variance  rank\n",
              "1004      gini     best         7  ...      0.889433  0.000339     1\n",
              "746       gini     best         6  ...      0.889410  0.000116     2\n",
              "2128      gini     best        12  ...      0.888746  0.000172     3\n",
              "1002      gini     best         7  ...      0.888077  0.000122     4\n",
              "4509   entropy   random        11  ...      0.888070  0.000337     5\n",
              "750       gini     best         6  ...      0.888065  0.000311     6\n",
              "492       gini     best         5  ...      0.888065  0.000093     6\n",
              "1989      gini   random        11  ...      0.887403  0.000209     8\n",
              "494       gini     best         5  ...      0.887396  0.000056     9\n",
              "672       gini     best         6  ...      0.887396  0.000106    10\n",
              "\n",
              "[10 rows x 8 columns]"
            ]
          },
          "metadata": {
            "tags": []
          },
          "execution_count": 12
        }
      ]
    },
    {
      "cell_type": "markdown",
      "metadata": {
        "id": "EtO74pB9MZKo",
        "colab_type": "text"
      },
      "source": [
        "<br>\n",
        "\n",
        "###Mejor estimador encontrado"
      ]
    },
    {
      "cell_type": "code",
      "metadata": {
        "id": "0olGRKpTqQEx",
        "colab_type": "code",
        "colab": {
          "base_uri": "https://localhost:8080/",
          "height": 212
        },
        "outputId": "09d92e16-8305-4f6e-a6ff-2ddc1e565f61"
      },
      "source": [
        "print(\"Mejor estimador:\\n\",cv.best_estimator_,\"\\n\")\n",
        "print(\"Mejor resultado:\\n\",cv.best_score_,\"\\n\")\n"
      ],
      "execution_count": null,
      "outputs": [
        {
          "output_type": "stream",
          "text": [
            "Mejor estimador:\n",
            " DecisionTreeClassifier(ccp_alpha=0.0, class_weight=None, criterion='gini',\n",
            "                       max_depth=7, max_features=9, max_leaf_nodes=None,\n",
            "                       min_impurity_decrease=0.0, min_impurity_split=None,\n",
            "                       min_samples_leaf=13, min_samples_split=2,\n",
            "                       min_weight_fraction_leaf=0.0, presort='deprecated',\n",
            "                       random_state=0, splitter='best') \n",
            "\n",
            "Mejor resultado:\n",
            " 0.8894326144326146 \n",
            "\n"
          ],
          "name": "stdout"
        }
      ]
    },
    {
      "cell_type": "markdown",
      "metadata": {
        "id": "0VwGW3lLMQUa",
        "colab_type": "text"
      },
      "source": [
        "\n",
        "<br>\n",
        "\n",
        "###Evaluamos el modelo usando el mejor estimador"
      ]
    },
    {
      "cell_type": "code",
      "metadata": {
        "id": "P5lPdpSZqLU6",
        "colab_type": "code",
        "colab": {
          "base_uri": "https://localhost:8080/",
          "height": 708
        },
        "outputId": "fe986f75-a212-4336-d016-2a07cd6b0135"
      },
      "source": [
        "y_train_pred = cv.predict(X_train)\n",
        "print('Metricas sobre el conjunto de entrenamiento: \\n')\n",
        "print_metrics(y_train, y_train_pred)\n",
        "\n",
        "y_test_pred = cv.predict(X_test)\n",
        "print(\"Metricas sobre el conjunto de evaluación:\")\n",
        "print_metrics(y_test, y_test_pred)\n",
        "\n",
        "print_confusion_matrix(cv, X_train, y_train, X_test, y_test,)"
      ],
      "execution_count": null,
      "outputs": [
        {
          "output_type": "stream",
          "text": [
            "Metricas sobre el conjunto de entrenamiento: \n",
            "\n",
            "Accuracy: 0.9096\n",
            "Precision: 0.8545\n",
            "Recall: 0.5618\n",
            "F1: 0.6779\n",
            "Confusion matrix:\n",
            " [[1208   24]\n",
            " [ 110  141]] \n",
            "\n",
            "\n",
            "Metricas sobre el conjunto de evaluación:\n",
            "Accuracy: 0.9057\n",
            "Precision: 0.7674\n",
            "Recall: 0.569\n",
            "F1: 0.6535\n",
            "Confusion matrix:\n",
            " [[303  10]\n",
            " [ 25  33]] \n",
            "\n",
            "\n"
          ],
          "name": "stdout"
        },
        {
          "output_type": "display_data",
          "data": {
            "image/png": "[encoded data removed]",
            "text/plain": [
              "<Figure size 720x360 with 4 Axes>"
            ]
          },
          "metadata": {
            "tags": [],
            "needs_background": "light"
          }
        }
      ]
    },
    {
      "cell_type": "markdown",
      "metadata": {
        "id": "uY-QsrVSZUuG",
        "colab_type": "text"
      },
      "source": [
        "\n",
        "<br>\n",
        "\n",
        "###Árbol con mejor resultado"
      ]
    },
    {
      "cell_type": "code",
      "metadata": {
        "id": "_BM-iwBirMxn",
        "colab_type": "code",
        "colab": {
          "base_uri": "https://localhost:8080/",
          "height": 574
        },
        "outputId": "60d48589-1d4a-4fa1-ab9c-db93e6f2eaa1"
      },
      "source": [
        "plt.figure(figsize=(20,10))\n",
        "t=plot_tree(cv.best_estimator_)"
      ],
      "execution_count": null,
      "outputs": [
        {
          "output_type": "display_data",
          "data": {
            "image/png": "[encoded data removed]",
            "text/plain": [
              "<Figure size 1440x720 with 1 Axes>"
            ]
          },
          "metadata": {
            "tags": [],
            "needs_background": "light"
          }
        }
      ]
    },
    {
      "cell_type": "markdown",
      "metadata": {
        "id": "NcMYOs-N2nHG",
        "colab_type": "text"
      },
      "source": [
        "<br>\n",
        "\n",
        "##Conclusiones\n",
        "\n",
        "#### Respecto a la clasificación lineal usando SGD, si bien con los datos de entrenamiento la Accuracy es casi la misma usando los hiperparámetros por defecto (0.8732) contra los personalizados (0.8719), se observa una mejora en el resultado de los parámetros personalizados al aplicarlos sobre los datos de evaluación: 0.8841 contra 0.8679 de los parámetros por defecto.\n",
        "<br>\n",
        "\n",
        "#### Respecto a la clasificación usando árboles de decisión, se observa que los datos de entrenamiento tuvieron overfitting utilizando los atributos por defecto dando una Accuracy de 1.0 contra 0.9096 con los parámetros personalizados. Viendo las métricas sobre los datos de evaluación se aprecia nuevamente que utilizando los parámetros personalizados se logró una mayor Accuracy (0.9057) respecto a utilizar los parámetros por defecto (0.8814).\n",
        "<br>\n",
        "\n",
        "#### Finalmenete se concluye que se obtiene una mejor clasificación utilizando el modelo de árboles de decisión sobre el SGD ya que fueron superiores incluso al utilizar los parámetros por defecto."
      ]
    }
  ]
}